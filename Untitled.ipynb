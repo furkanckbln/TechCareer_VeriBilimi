{
 "cells": [
  {
   "cell_type": "code",
   "execution_count": 1,
   "id": "3157d14e-90b8-4bb9-99d1-8aefc13cf658",
   "metadata": {},
   "outputs": [
    {
     "name": "stdin",
     "output_type": "stream",
     "text": [
      "Bir sayı giriniz:  10\n"
     ]
    },
    {
     "name": "stdout",
     "output_type": "stream",
     "text": [
      "Pozitif Çift\n"
     ]
    }
   ],
   "source": [
    "#soru1\n",
    "def tek_çift_kontrol(sayı):\n",
    "    teklik_çiftlik = None\n",
    "    if (sayı % 2 == 0):\n",
    "        teklik_çiftlik = \"Çift\"\n",
    "    else:\n",
    "        teklik_çiftlik = \"Tek\"\n",
    "    return teklik_çiftlik\n",
    "    \n",
    "sayı = int(input(\"Bir sayı giriniz: \"))\n",
    "\n",
    "teklik_çiftlik = tek_çift_kontrol(sayı)\n",
    "if (sayı > 0 ):\n",
    "    print(f\"Pozitif {teklik_çiftlik}\")\n",
    "elif ( sayı == 0):\n",
    "    print(f\"Sayı sıfır ve {teklik_çiftlik}\")\n",
    "else:\n",
    "    print(f\"Negatif {teklik_çiftlik}\")\n",
    "\n",
    "                "
   ]
  },
  {
   "cell_type": "code",
   "execution_count": 2,
   "id": "a787fc2a-5515-4683-9db5-cec2732960f0",
   "metadata": {},
   "outputs": [
    {
     "name": "stdin",
     "output_type": "stream",
     "text": [
      "Lütfen bir kelime girin:  data\n"
     ]
    },
    {
     "name": "stdout",
     "output_type": "stream",
     "text": [
      "Sonuç:\n",
      "{'d': 1, 'a': 2, 't': 1}\n"
     ]
    }
   ],
   "source": [
    "#soru2\n",
    "kelime = input(\"Lütfen bir kelime girin: \")\n",
    "harf_frekanslari = {}\n",
    "\n",
    "for harf in kelime:\n",
    "    if harf in harf_frekanslari:\n",
    "        harf_frekanslari[harf] += 1\n",
    "    else:\n",
    "        harf_frekanslari[harf] = 1\n",
    "\n",
    "print(\"Sonuç:\")\n",
    "print(harf_frekanslari)"
   ]
  },
  {
   "cell_type": "code",
   "execution_count": 3,
   "id": "9881fef7-20af-4408-ac91-ebe98de7bb93",
   "metadata": {},
   "outputs": [
    {
     "name": "stdin",
     "output_type": "stream",
     "text": [
      "Şifre:  Güvenlişifre12345\n"
     ]
    },
    {
     "name": "stdout",
     "output_type": "stream",
     "text": [
      "True\n"
     ]
    }
   ],
   "source": [
    "#soru3\n",
    "def şifre_kontrol(şifre):\n",
    "    şifre_geçerli_mi = True\n",
    "    #Uzunluk kontrol\n",
    "    if (len(şifre) < 8):\n",
    "        şifre_geçerli_mi = False\n",
    "\n",
    "    #Büyük harf ve rakam içermesi kontrolü\n",
    "    şifre_listesi = list(şifre)\n",
    "    büyük_harf = False\n",
    "    rakam_var_mı = False\n",
    "    \n",
    "    for i in şifre_listesi:\n",
    "        if (i.isupper() == True):\n",
    "            büyük_harf = True\n",
    "        elif (i.isdigit() == True):\n",
    "            rakam_var_mı = True\n",
    "            \n",
    "    if (büyük_harf == False or rakam_var_mı == False):\n",
    "        şifre_geçerli_mi = False\n",
    "\n",
    "    return şifre_geçerli_mi\n",
    "\n",
    "    \n",
    "    \n",
    "password = input(\"Şifre: \")\n",
    "şifre_geçerliliği = şifre_kontrol(password)\n",
    "print(şifre_geçerliliği)\n"
   ]
  },
  {
   "cell_type": "code",
   "execution_count": 4,
   "id": "86269fcf-b9fd-4287-90c2-e93a54965cf1",
   "metadata": {},
   "outputs": [
    {
     "name": "stdout",
     "output_type": "stream",
     "text": [
      "[25, 30, 18]\n"
     ]
    }
   ],
   "source": [
    "#soru4\n",
    "liste = [12, 4, 9, 25, 30, 7, 18]\n",
    "liste2 = []\n",
    "toplam = 0\n",
    "for i in liste:\n",
    "    toplam += i\n",
    "ortalama = toplam / len(liste)\n",
    "# listenin ortalaması 15 çıkıyor\n",
    "\n",
    "for j in liste:\n",
    "    if (j > ortalama):\n",
    "        liste2.append(j)\n",
    "print(liste2)\n",
    "\n"
   ]
  },
  {
   "cell_type": "code",
   "execution_count": 5,
   "id": "23152a48-8306-44dc-93a2-4fafc2c57860",
   "metadata": {},
   "outputs": [
    {
     "name": "stdout",
     "output_type": "stream",
     "text": [
      " \n",
      "* \n",
      "** \n",
      "*** \n",
      "**** \n",
      "***** \n"
     ]
    }
   ],
   "source": [
    "for i in range(1,7):\n",
    "    for j in range(1,i):\n",
    "        print(\"*\",end= \"\")\n",
    "    print(\" \")"
   ]
  },
  {
   "cell_type": "code",
   "execution_count": 6,
   "id": "77ec5dac-ccde-4778-943b-0dafa24008ac",
   "metadata": {},
   "outputs": [
    {
     "name": "stdin",
     "output_type": "stream",
     "text": [
      "Sayı giriniz (sonlandırmak için 0 giriniz):  1\n",
      "Sayı giriniz (sonlandırmak için 0 giriniz):  2\n",
      "Sayı giriniz (sonlandırmak için 0 giriniz):  3\n",
      "Sayı giriniz (sonlandırmak için 0 giriniz):  4\n",
      "Sayı giriniz (sonlandırmak için 0 giriniz):  5\n",
      "Sayı giriniz (sonlandırmak için 0 giriniz):  6\n",
      "Sayı giriniz (sonlandırmak için 0 giriniz):  0\n"
     ]
    },
    {
     "name": "stdout",
     "output_type": "stream",
     "text": [
      " \n",
      "Girilen sayıların toplamı: 21, ortalaması: 3.0\n"
     ]
    }
   ],
   "source": [
    "#soru5\n",
    "sayılar = []\n",
    "\n",
    "sayı = 1\n",
    "while(sayı != 0):\n",
    "    sayı = int(input(\"Sayı giriniz (sonlandırmak için 0 giriniz): \"))\n",
    "    sayılar.append(sayı)\n",
    "\n",
    "toplam = 0\n",
    "for i in sayılar:\n",
    "    toplam += i\n",
    "ortalama = toplam / len(sayılar)\n",
    "\n",
    "print(\" \")\n",
    "print(f\"Girilen sayıların toplamı: {toplam}, ortalaması: {ortalama}\")"
   ]
  },
  {
   "cell_type": "code",
   "execution_count": 9,
   "id": "b41e2954-ecca-46e4-96d6-4d26bd58f85f",
   "metadata": {},
   "outputs": [
    {
     "name": "stdin",
     "output_type": "stream",
     "text": [
      "Bir kelime giriniz:  python\n"
     ]
    },
    {
     "data": {
      "text/plain": [
       "False"
      ]
     },
     "execution_count": 9,
     "metadata": {},
     "output_type": "execute_result"
    }
   ],
   "source": [
    "#soru6\n",
    "kelime = input(\"Bir kelime giriniz: \")\n",
    "\n",
    "def palindrom(kelime):\n",
    "    palindrom_mu = None\n",
    "    \n",
    "    # Palindrom olması için öncelikle karakter sayısı tek olmalı \n",
    "    if(len(kelime) % 2 == 0):\n",
    "        palindrom_mu = False\n",
    "        return palindrom_mu\n",
    "    else:\n",
    "        list1 = list(kelime)\n",
    "        list2 = []\n",
    "        harf_Sayısı = len(list1)\n",
    "\n",
    "        # Girilen kelimeyi tersten olacak şekilde liste2 ye atıyoruz\n",
    "        for i in range(harf_Sayısı,0,-1):\n",
    "            list2.append(list1[i-1])\n",
    "\n",
    "        # 2 listenin içeriği bire bir aynı ise kelime palindromdur\n",
    "        if (list1 == list2):\n",
    "            palindrom_mu = True\n",
    "            return palindrom_mu\n",
    "        else:\n",
    "            palindrom_mu = False\n",
    "            return palindrom_mu\n",
    "        \n",
    "palindrom(kelime)\n",
    "\n",
    "\n"
   ]
  },
  {
   "cell_type": "code",
   "execution_count": 10,
   "id": "edbc714c-b0b4-4580-a55c-2bc67dddf7b7",
   "metadata": {},
   "outputs": [
    {
     "name": "stdout",
     "output_type": "stream",
     "text": [
      "225\n",
      "900\n",
      "2025\n",
      "3600\n",
      "5625\n",
      "8100\n"
     ]
    }
   ],
   "source": [
    "#soru7\n",
    "sayılar = list(range(1,100))\n",
    "liste = []\n",
    "\n",
    "for i in sayılar:\n",
    "    if (i % 3 == 0 and i % 5 == 0):\n",
    "        liste.append(i ** 2)\n",
    "for j in liste:\n",
    "    print(j)\n"
   ]
  },
  {
   "cell_type": "code",
   "execution_count": 11,
   "id": "1a722c81-d7ea-4374-9823-e19a9bdda709",
   "metadata": {},
   "outputs": [
    {
     "name": "stdin",
     "output_type": "stream",
     "text": [
      "Bir cümle giriniz (kelimeler arasında '1' adet space bırakın):  python veri bilimi\n"
     ]
    },
    {
     "name": "stdout",
     "output_type": "stream",
     "text": [
      "python veri bilimi -> Python Veri Bilimi\n"
     ]
    }
   ],
   "source": [
    "#soru8\n",
    "cümle = input(\"Bir cümle giriniz (kelimeler arasında '1' adet space bırakın): \")\n",
    "\n",
    "cümle2 = cümle.split(\" \")\n",
    "sayaç = 0\n",
    "\n",
    "for i in cümle2:\n",
    "    cümle2[sayaç]= i.lower()\n",
    "    cümle2[sayaç]= i.capitalize()\n",
    "    sayaç+=1\n",
    "\n",
    "cümle3 = \" \".join(cümle2)\n",
    "\n",
    "print(cümle + \" -> \" + cümle3)"
   ]
  },
  {
   "cell_type": "code",
   "execution_count": 12,
   "id": "c697ff1e-1fa3-41f2-a98e-050c001df3de",
   "metadata": {},
   "outputs": [
    {
     "name": "stdout",
     "output_type": "stream",
     "text": [
      "Film yorumlarını alttan tek tek girebilirsiniz, giriş işlemini bitirmek için 'q' tuşuna basınız...\n"
     ]
    },
    {
     "name": "stdin",
     "output_type": "stream",
     "text": [
      "->  Film çok güzeldi\n",
      "->  Kötüydü\n",
      "->   Ortalama bir filmdi\n",
      "->  Gerçekten çok iyi!\n",
      "->  İyi ama daha iyi olabilirdi\n",
      "->  q\n"
     ]
    },
    {
     "name": "stdout",
     "output_type": "stream",
     "text": [
      "Yorum giriş işlemi sonlandırıldı, alt tarafta ilgili çıktıları görebilirsiniz....\n",
      " \n",
      "Çıktı:\n",
      "Toplam yorum sayısı: 5\n",
      "'iyi' geçen yorum sayısı: 2\n",
      "En uzun yorum: İyi ama daha iyi olabilirdi\n",
      "En kısa yorum: Kötüydü\n",
      "Ortalama uzunluk: 17.6 karakter\n"
     ]
    }
   ],
   "source": [
    "#mini proje\n",
    "print(\"Film yorumlarını alttan tek tek girebilirsiniz, giriş işlemini bitirmek için 'q' tuşuna basınız...\")\n",
    "yorum = input(\"-> \")\n",
    "yorumlar = []\n",
    "while(yorum != \"q\"):\n",
    "    yorumlar.append(yorum)\n",
    "    yorum = input(\"-> \")\n",
    "\n",
    "print(\"Yorum giriş işlemi sonlandırıldı, alt tarafta ilgili çıktıları görebilirsiniz....\")\n",
    "print(\" \")\n",
    "print(\"Çıktı:\")\n",
    "\n",
    "\n",
    "toplam_yorum = len(yorumlar)\n",
    "print(f\"Toplam yorum sayısı: {toplam_yorum}\")\n",
    "\n",
    "iyi_sayısı = 0\n",
    "en_uzun_karakter_sayısı = -1\n",
    "en_kısa_karakter_sayısı = 100000000000\n",
    "\n",
    "\n",
    "toplam_karakter = 0\n",
    "\n",
    "for i in yorumlar:\n",
    "    toplam_karakter += len(i)\n",
    "    \n",
    "    if (\"iyi\" in i):\n",
    "        iyi_sayısı += 1\n",
    "    if (len(i) > en_uzun_karakter_sayısı):\n",
    "        en_uzun = i\n",
    "        en_uzun_karakter_sayısı = len(i)\n",
    "    if (len(i) < en_kısa_karakter_sayısı):\n",
    "        en_kısa = i\n",
    "        en_kısa_karakter_sayısı = len(i)\n",
    "\n",
    "    \n",
    "print(f\"'iyi' geçen yorum sayısı: {iyi_sayısı}\")\n",
    "\n",
    "print(f\"En uzun yorum: {en_uzun}\")\n",
    "print(f\"En kısa yorum: {en_kısa}\")\n",
    "\n",
    "ortalama = toplam_karakter / len(yorumlar)\n",
    "print(f\"Ortalama uzunluk: {ortalama} karakter\")\n"
   ]
  },
  {
   "cell_type": "code",
   "execution_count": null,
   "id": "effa4534-ea49-4e8e-8cf7-59af1d200ce8",
   "metadata": {},
   "outputs": [],
   "source": []
  }
 ],
 "metadata": {
  "kernelspec": {
   "display_name": "Python 3 (ipykernel)",
   "language": "python",
   "name": "python3"
  },
  "language_info": {
   "codemirror_mode": {
    "name": "ipython",
    "version": 3
   },
   "file_extension": ".py",
   "mimetype": "text/x-python",
   "name": "python",
   "nbconvert_exporter": "python",
   "pygments_lexer": "ipython3",
   "version": "3.12.7"
  }
 },
 "nbformat": 4,
 "nbformat_minor": 5
}
